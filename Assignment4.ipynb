{
 "cells": [
  {
   "cell_type": "code",
   "execution_count": 1,
   "metadata": {},
   "outputs": [
    {
     "data": {
      "text/plain": [
       "'1.1 Write a Python Program(with class concepts) to find the area of the triangle using the below\\nformula.\\narea = (s*(s-a)*(s-b)*(s-c)) ** 0.5\\nFunction to take the length of the sides of triangle from user should be defined in the parent\\nclass and function to calculate the area should be defined in subclass.'"
      ]
     },
     "execution_count": 1,
     "metadata": {},
     "output_type": "execute_result"
    }
   ],
   "source": [
    "'''1.1 Write a Python Program(with class concepts) to find the area of the triangle using the below\n",
    "formula.\n",
    "area = (s*(s-a)*(s-b)*(s-c)) ** 0.5\n",
    "Function to take the length of the sides of triangle from user should be defined in the parent\n",
    "class and function to calculate the area should be defined in subclass.'''"
   ]
  },
  {
   "cell_type": "code",
   "execution_count": 19,
   "metadata": {},
   "outputs": [
    {
     "name": "stdout",
     "output_type": "stream",
     "text": [
      "2\n",
      "3\n",
      "7\n",
      "area: (5.195736337412959e-16+8.48528137423857j)\n"
     ]
    }
   ],
   "source": [
    "class Triangle:\n",
    "    def __init__(self,a,b,c):\n",
    "        self.a=a\n",
    "        self.b=b\n",
    "        self.c=c\n",
    "        \n",
    "class Area(Triangle):\n",
    "    def __init__(self,a,b,c):\n",
    "        super().__init__(a,b,c)\n",
    "    def ar(self):\n",
    "        s=(a+b+c)/2\n",
    "        return (s*(s-a)*(s-b)*(s-c)) ** 0.5\n",
    "    \n",
    "a =float(input())\n",
    "b = float (input())\n",
    "c= float(input())\n",
    "t = Area(a,b,c)\n",
    "print(\"area: {}\".format(t.ar()))       "
   ]
  },
  {
   "cell_type": "code",
   "execution_count": null,
   "metadata": {},
   "outputs": [],
   "source": [
    "\"\"\"1.2 Write a function filter_long_words() that takes a list of words and an integer n and returns\n",
    "the list of words that are longer than n.\"\"\""
   ]
  },
  {
   "cell_type": "code",
   "execution_count": null,
   "metadata": {},
   "outputs": [],
   "source": [
    "\n",
    "n = int(input())\n"
   ]
  },
  {
   "cell_type": "code",
   "execution_count": 38,
   "metadata": {},
   "outputs": [
    {
     "name": "stdout",
     "output_type": "stream",
     "text": [
      "3\n",
      "Enter words: hey my name is tanmay jain\n",
      "['name', 'tanmay', 'jain']\n"
     ]
    }
   ],
   "source": [
    "def filter_long_words(lst,n):\n",
    "        return [i for i in lst if(len(i)>n)]\n",
    "            \n",
    "#lst=[\"22\",\"333\",\"44444\",\"555555\",\"66666\"]\n",
    "n =int(input())\n",
    "lst = input(\"Enter words: \").split(\" \")\n",
    "lm = filter_long_words(lst,n)\n",
    "print(lm)"
   ]
  },
  {
   "cell_type": "code",
   "execution_count": 23,
   "metadata": {},
   "outputs": [
    {
     "data": {
      "text/plain": [
       "'2.1 Write a Python program using function concept that maps list of words into a list of integers representing the lengths of the corresponding words.'"
      ]
     },
     "execution_count": 23,
     "metadata": {},
     "output_type": "execute_result"
    }
   ],
   "source": [
    "\"\"\"2.1 Write a Python program using function concept that maps list of words \n",
    "into a list of integers representing the lengths of the corresponding words.\"\"\""
   ]
  },
  {
   "cell_type": "code",
   "execution_count": 25,
   "metadata": {},
   "outputs": [
    {
     "name": "stdout",
     "output_type": "stream",
     "text": [
      "[2, 2, 3, 4, 5]\n"
     ]
    }
   ],
   "source": [
    "def fun(lst):\n",
    "    arr=[len(i) for i in lst]\n",
    "    return arr\n",
    "lst = [\"aa\",\"bb\",\"ccc\",\"dddd\",\"12345\"]\n",
    "print(fun(lst))"
   ]
  },
  {
   "cell_type": "code",
   "execution_count": 22,
   "metadata": {},
   "outputs": [
    {
     "data": {
      "text/plain": [
       "'2.2 Write a Python function which takes a character (i.e. a string of length 1) and returns True if\\nit is a vowel, False otherwise.'"
      ]
     },
     "execution_count": 22,
     "metadata": {},
     "output_type": "execute_result"
    }
   ],
   "source": [
    "\"\"\"2.2 Write a Python function which takes a character (i.e. a string of length 1) and returns True if\n",
    "it is a vowel, False otherwise.\"\"\""
   ]
  },
  {
   "cell_type": "code",
   "execution_count": 24,
   "metadata": {},
   "outputs": [
    {
     "name": "stdout",
     "output_type": "stream",
     "text": [
      "Enter a character : ww\n",
      "Invalid input. Enter again\n",
      "Enter a character : w\n",
      "False\n"
     ]
    }
   ],
   "source": [
    "class check:\n",
    "    def _init_(self):\n",
    "        pass\n",
    "    def checking(a):\n",
    "        if(a==\"a\"or a==\"e\"or a==\"i\" or a==\"o\" or a==\"u\"):\n",
    "            return True\n",
    "        elif(a==\"A\" or a==\"E\" or a==\"I\" or a==\"O\" or a==\"U\"):\n",
    "            return True\n",
    "        else:\n",
    "            return False\n",
    "#above is the function in the class check to check for vowel as input or not\n",
    "\n",
    "while(True):\n",
    "    a = input(\"Enter a character : \")\n",
    "    if(len(a)==1):\n",
    "        b = check\n",
    "        print(b.checking(a))\n",
    "        break\n",
    "    else:\n",
    "        print(\"Invalid input. Enter again\")\n",
    "        continue    "
   ]
  },
  {
   "cell_type": "code",
   "execution_count": null,
   "metadata": {},
   "outputs": [],
   "source": []
  }
 ],
 "metadata": {
  "kernelspec": {
   "display_name": "Python 3",
   "language": "python",
   "name": "python3"
  },
  "language_info": {
   "codemirror_mode": {
    "name": "ipython",
    "version": 3
   },
   "file_extension": ".py",
   "mimetype": "text/x-python",
   "name": "python",
   "nbconvert_exporter": "python",
   "pygments_lexer": "ipython3",
   "version": "3.7.3"
  }
 },
 "nbformat": 4,
 "nbformat_minor": 2
}
